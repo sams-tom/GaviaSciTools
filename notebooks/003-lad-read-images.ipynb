{
 "cells": [
  {
   "cell_type": "markdown",
   "metadata": {},
   "source": [
    "# Read images and creates a video"
   ]
  },
  {
   "cell_type": "code",
   "execution_count": 1,
   "metadata": {},
   "outputs": [],
   "source": [
    "import os\n",
    "import glob\n",
    "import numpy as np\n",
    "import imageio"
   ]
  },
  {
   "cell_type": "code",
   "execution_count": 2,
   "metadata": {},
   "outputs": [],
   "source": [
    "# root dir\n",
    "rootpath = os.path.dirname(os.getcwd())\n",
    "\n",
    "# outpath\n",
    "outpath = os.path.join(rootpath,'data','processed')\n",
    "\n",
    "# missioname\n",
    "missionname='20230119_ArdBay_NM'\n",
    "\n",
    "# project folder\n",
    "projects ='AUV Projects 2023'\n",
    "\n",
    "## if working off the SAMS servers:\n",
    "samserv=os.path.join('x:','SONAR ARCHIVE','AUV')\n",
    "\n",
    "# mission files directory\n",
    "missiondir=os.path.join(samserv,projects,missionname,'files','missions')\n",
    "\n",
    "# log files directory\n",
    "logdir=os.path.join(samserv,projects,missionname,'files','log')\n",
    "\n",
    "# images files directory\n",
    "imgdir=os.path.join(samserv,projects,missionname,'files','images')\n",
    "\n",
    "# make folder for processed data\n",
    "processedpath=os.path.join(outpath,missionname)\n",
    "os.makedirs(processedpath, exist_ok=True)  \n"
   ]
  },
  {
   "cell_type": "code",
   "execution_count": 3,
   "metadata": {},
   "outputs": [
    {
     "name": "stderr",
     "output_type": "stream",
     "text": [
      "C:\\Users\\sa01ld\\AppData\\Local\\Temp\\ipykernel_14408\\2689060735.py:14: DeprecationWarning: Starting with ImageIO v3 the behavior of this function will switch to that of iio.v3.imread. To keep the current behavior (and make this warning disappear) use `import imageio.v2 as imageio` or call `imageio.v2.imread` directly.\n",
      "  writer.append_data(imageio.imread(im))\n"
     ]
    }
   ],
   "source": [
    "flderlist=glob.glob(os.path.join(imgdir,'*/'))\n",
    "\n",
    "filelist = []\n",
    "\n",
    "fles=glob.glob(os.path.join(flderlist[4],'*'))\n",
    "\n",
    "# for file in fles:\n",
    "#     complete_path = file\n",
    "#     filelist.append(complete_path)\n",
    "    \n",
    "writer = imageio.get_writer(os.path.join(outpath,missionname+'.mp4'), fps=20)\n",
    "\n",
    "for im in fles:\n",
    "    writer.append_data(imageio.imread(im))\n",
    "\n",
    "writer.close()\n"
   ]
  },
  {
   "cell_type": "code",
   "execution_count": null,
   "metadata": {},
   "outputs": [],
   "source": []
  }
 ],
 "metadata": {
  "kernelspec": {
   "display_name": "Python 3 (ipykernel)",
   "language": "python",
   "name": "python3"
  },
  "language_info": {
   "codemirror_mode": {
    "name": "ipython",
    "version": 3
   },
   "file_extension": ".py",
   "mimetype": "text/x-python",
   "name": "python",
   "nbconvert_exporter": "python",
   "pygments_lexer": "ipython3",
   "version": "3.10.9"
  }
 },
 "nbformat": 4,
 "nbformat_minor": 4
}
