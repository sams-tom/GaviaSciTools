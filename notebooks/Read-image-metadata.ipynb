{
 "cells": [
  {
   "cell_type": "code",
   "execution_count": 1,
   "id": "ac770a86-8559-4506-8caa-b65a8f05ffbe",
   "metadata": {},
   "outputs": [],
   "source": [
    "import os  \n",
    "import glob \n",
    "import matplotlib.pyplot as plt\n",
    "import numpy as np\n",
    "import pandas as pd\n",
    "import exiftool\n",
    "import numpy\n",
    "import re\n",
    "\n",
    "## ECOWIND-ACCELERATE\n",
    "# project='ECOWind-accelerate'\n",
    "# drive ='e:'\n",
    "# indir = os.path.join(drive,project,'master','files','images')\n",
    "# save_folder=os.path.join(drive,project,'image-metadata')\n",
    "\n",
    "## mil\n",
    "project='ECOWind','ECOWind-ACCELERATE','master','files'\n",
    "drive ='e:'\n",
    "indir = os.path.join(drive,'Projects','ECOWind','ECOWind-ACCELERATE','master','files','images')\n",
    "save_folder=os.path.join(drive,'Projects','ECOWind','ECOWind-ACCELERATE','image-metadata')\n",
    "\n",
    "\n",
    "folders=glob.glob(indir+'\\*')\n",
    "\n",
    "for folder in folders:\n",
    "    # get timestamp of picture folder\n",
    "    splitname=os.path.split(folder)\n",
    "    tstamp=splitname[1]\n",
    "    # build filenam for saving\n",
    "    savename=os.path.join(save_folder,tstamp+'-coords.csv')\n",
    "    # check for existence of filename\n",
    "    if not os.path.exists(savename):\n",
    "    \n",
    "        files=glob.glob(folder+'\\*.jpg')\n",
    "\n",
    "        df = pd.DataFrame(columns=['Image_Name','path', 'time','capture time','altitude', 'depth','heading','Lat','latDec','Lon','lonDec','pitch','roll','surge','sway'])\n",
    "\n",
    "        loopy=range(len(files))\n",
    "\n",
    "        with exiftool.ExifToolHelper() as et:\n",
    "                metadata = et.get_metadata(files)\n",
    "\n",
    "        for i in loopy:\n",
    "            file=files[i]\n",
    "            files1 = [file]\n",
    "\n",
    "            comment=metadata[i]['File:Comment']\n",
    "            time = re.search('time=\"(.*)\">', comment).group(1)\n",
    "            capture_time = re.search('<capture_time>(.*)</capture_time>', comment).group(1)\n",
    "            altitude = re.search('<altitude>(.*)</altitude>', comment).group(1)\n",
    "            depth = re.search('<depth>(.*)</depth>', comment).group(1)\n",
    "            heading = re.search('<heading>(.*)</heading>', comment).group(1)\n",
    "            lat = re.search('<lat>(.*)</lat>', comment).group(1)\n",
    "            lon = re.search('<lon>(.*)</lon>', comment).group(1)\n",
    "            pitch = re.search('<pitch>(.*)</pitch>', comment).group(1)\n",
    "            roll = re.search('<roll>(.*)</roll>', comment).group(1)\n",
    "            surge = re.search('<surge>(.*)</surge>', comment).group(1)\n",
    "            sway = re.search('<sway>(.*)</sway>', comment).group(1)\n",
    "\n",
    "\n",
    "            signlat = 1\n",
    "            if lat[-1] == \"S\":\n",
    "                signlat = -1    \n",
    "            lenlat = len(lat)\n",
    "            latCor = signlat * (float(lat[:2]) + float(lat[2:lenlat-2])/60.0)\n",
    "\n",
    "            signlon=1\n",
    "            if lon[-1] == \"W\":\n",
    "                signlon = -1\n",
    "            lenlon = len(lon)\n",
    "            lonCor = signlon * (float(lon[:3]) + float(lon[3:lenlon-2])/60.0)\n",
    "\n",
    "\n",
    "            basename=os.path.basename(file)\n",
    "            df.loc[i] = [os.path.basename(file),file,time, capture_time,altitude,depth,heading,lat,latCor,lon,lonCor,pitch,roll,surge,sway]\n",
    "\n",
    "\n",
    "        df.to_csv(os.path.join(save_folder,tstamp+'-coords.csv'))\n",
    "        \n",
    "    else:\n",
    "        print('file ' +savename +' exists already')"
   ]
  },
  {
   "cell_type": "code",
   "execution_count": 2,
   "id": "9a71f742-281d-413d-8c5f-b555aa0cd7e3",
   "metadata": {},
   "outputs": [
    {
     "data": {
      "text/plain": [
       "'e:Projects\\\\ECOWind\\\\ECOWind-ACCELERATE\\\\master\\\\files\\\\images'"
      ]
     },
     "execution_count": 2,
     "metadata": {},
     "output_type": "execute_result"
    }
   ],
   "source": [
    "indir"
   ]
  },
  {
   "cell_type": "code",
   "execution_count": 4,
   "id": "3c620b63-8f1c-4466-b5a5-716e80e815dd",
   "metadata": {},
   "outputs": [
    {
     "name": "stdout",
     "output_type": "stream",
     "text": [
      "Number of photos is 62014\n"
     ]
    }
   ],
   "source": [
    "## count the number of photos\n",
    "picfolder=os.path.join(drive,'Projects','ECOWind','ECOWind-ACCELERATE','image-metadata')\n",
    "\n",
    "folders=glob.glob(picfolder+'\\*')\n",
    "\n",
    "pics=[]\n",
    "\n",
    "for folder in folders:\n",
    "    df=pd.read_csv(folder)\n",
    "    npics=len(df.index)\n",
    "    pics.append(npics)\n",
    "\n",
    "print('Number of photos is ' + str(np.sum(pics)))"
   ]
  },
  {
   "cell_type": "code",
   "execution_count": 5,
   "id": "98393b60-6270-44f4-b4f3-e1defc22788c",
   "metadata": {},
   "outputs": [],
   "source": [
    "## concatentate the metadata folders\n",
    "picfolder=os.path.join(drive,'Projects','ECOWind','ECOWind-ACCELERATE','image-metadata')\n",
    "\n",
    "folders=glob.glob(picfolder+'\\*')\n",
    "\n",
    "for x,folder in enumerate(folders):\n",
    "    if x==1:\n",
    "        df=pd.read_csv(folder)\n",
    "    else:\n",
    "        ds=pd.read_csv(folder)\n",
    "        df=pd.concat([df,ds])\n",
    "        \n",
    "df.to_csv(os.path.join(save_folder,'photo-coords.csv'))\n"
   ]
  },
  {
   "cell_type": "code",
   "execution_count": null,
   "id": "4ba0ee80-02d8-4f1f-9d6b-29f12913a4ab",
   "metadata": {},
   "outputs": [],
   "source": [
    "df"
   ]
  },
  {
   "cell_type": "code",
   "execution_count": null,
   "id": "9ae61fec-8b39-4159-a634-c3f48378be06",
   "metadata": {},
   "outputs": [],
   "source": []
  }
 ],
 "metadata": {
  "kernelspec": {
   "display_name": "Python 3 (ipykernel)",
   "language": "python",
   "name": "python3"
  },
  "language_info": {
   "codemirror_mode": {
    "name": "ipython",
    "version": 3
   },
   "file_extension": ".py",
   "mimetype": "text/x-python",
   "name": "python",
   "nbconvert_exporter": "python",
   "pygments_lexer": "ipython3",
   "version": "3.9.18"
  }
 },
 "nbformat": 4,
 "nbformat_minor": 5
}
