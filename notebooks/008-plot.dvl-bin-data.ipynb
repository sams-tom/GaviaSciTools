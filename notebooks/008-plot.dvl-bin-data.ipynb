{
 "cells": [
  {
   "cell_type": "code",
   "execution_count": null,
   "id": "38be2751-5954-4422-8c00-20753c28f81f",
   "metadata": {},
   "outputs": [],
   "source": [
    "import glob\n",
    "import struct\n",
    "infiles='e:\\\\SDA-trials-2023\\\\files\\\\data\\*.bin'\n",
    "binfles=glob.glob(infiles)"
   ]
  },
  {
   "cell_type": "code",
   "execution_count": null,
   "id": "1df43e88-97d6-480c-97e1-97977549a26b",
   "metadata": {},
   "outputs": [],
   "source": [
    "with open(binfles[1], mode='rb') as file: # b is important -> binary\n",
    "    fileContent = file.read()"
   ]
  },
  {
   "cell_type": "code",
   "execution_count": null,
   "id": "2af7c8b8-6572-4e57-ade3-19db887c59ec",
   "metadata": {},
   "outputs": [],
   "source": [
    "struct.unpack(\"iiiii\", fileContent[:20])"
   ]
  },
  {
   "cell_type": "code",
   "execution_count": null,
   "id": "9ead667e-fff2-480a-b01f-976eca5cc9fb",
   "metadata": {},
   "outputs": [],
   "source": [
    "struct.unpack(\"i\" * ((len(fileContent) -24) // 4), fileContent[20:-4])"
   ]
  },
  {
   "cell_type": "code",
   "execution_count": null,
   "id": "aa36bfa7-02d0-4596-a7d0-b89d6347014c",
   "metadata": {},
   "outputs": [],
   "source": [
    "ints = struct.unpack('iiii', fileContent[:16])"
   ]
  },
  {
   "cell_type": "code",
   "execution_count": null,
   "id": "af4cf4b1-916f-4688-b3bc-ba38d7cf4131",
   "metadata": {},
   "outputs": [],
   "source": [
    "ints"
   ]
  },
  {
   "cell_type": "code",
   "execution_count": null,
   "id": "843a00e1-2422-4e95-b0aa-eed27ad0ba96",
   "metadata": {},
   "outputs": [],
   "source": []
  }
 ],
 "metadata": {
  "kernelspec": {
   "display_name": "Python 3 (ipykernel)",
   "language": "python",
   "name": "python3"
  },
  "language_info": {
   "codemirror_mode": {
    "name": "ipython",
    "version": 3
   },
   "file_extension": ".py",
   "mimetype": "text/x-python",
   "name": "python",
   "nbconvert_exporter": "python",
   "pygments_lexer": "ipython3",
   "version": "3.10.9"
  }
 },
 "nbformat": 4,
 "nbformat_minor": 5
}
