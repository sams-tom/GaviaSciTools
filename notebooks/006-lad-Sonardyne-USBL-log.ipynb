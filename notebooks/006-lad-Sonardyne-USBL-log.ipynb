{
 "cells": [
  {
   "cell_type": "code",
   "execution_count": null,
   "id": "e8e2a6f0-5070-4442-bdbb-b1f93f22d79d",
   "metadata": {},
   "outputs": [],
   "source": [
    "import os\n",
    "import pandas as pd\n",
    "import glob\n",
    "from pathlib import Path\n",
    "import re\n",
    "import matplotlib.pyplot as plt\n",
    "\n",
    "drive='e:'  \n",
    "campaign='SDA-trials-2023'\n",
    "subfolder='USBL'\n",
    "subsubfolder='Archives'\n",
    "savefolder='data'\n",
    "indir=os.path.join(drive,campaign,subfolder,subsubfolder)\n",
    "outdir=os.path.join(drive,campaign,subfolder,savefolder)\n",
    "savedir=os.path.join(drive,campaign,subfolder,savefolder)\n",
    "\n",
    "os.makedirs(outdir, exist_ok=True)  \n",
    "\n",
    "# change file extensions\n",
    "files=glob.glob(os.path.join(indir,'*.csv'))\n",
    "for i in files:\n",
    "    if os.path.isfile(i):\n",
    "        p = Path(i)\n",
    "        p.rename(p.with_suffix('.txt'))\n",
    "\n",
    "savefile=os.path.join(outdir,'LatLongObs.txt')\n",
    "Path(savefile).touch()\n",
    "    \n",
    "files=glob.glob(os.path.join(indir,'*.txt'))\n",
    "for count,i in enumerate(files):\n",
    "    keystrings=[\"LatLongObs\",\"2207\"]\n",
    "    with open(i) as infile, open(savefile, 'a') as outfile:\n",
    "        for line in infile:\n",
    "            if  re.search(r\"\\bLatLongObs\\b\", line) and re.search(r'\\b2207\\b', line):\n",
    "                outfile.write(line)\n",
    "\n",
    "latlongdata=os.path.join(outdir,'LatLongObs.txt')\n",
    "df=pd.read_csv(savefile,\n",
    "               header=None)\n",
    "cols= [0,3,7,10,11]\n",
    "df = df[df.columns[cols]]\n",
    "\n",
    "df=df.rename(columns={0: 'Type', 3: 'Address', 7: 'Time', 10: 'Lat', 11: 'Lon'})\n",
    "\n",
    "df.to_csv(os.path.join(savedir,'USBL-ObsLatLong.csv')) "
   ]
  }
 ],
 "metadata": {
  "kernelspec": {
   "display_name": "Python 3 (ipykernel)",
   "language": "python",
   "name": "python3"
  },
  "language_info": {
   "codemirror_mode": {
    "name": "ipython",
    "version": 3
   },
   "file_extension": ".py",
   "mimetype": "text/x-python",
   "name": "python",
   "nbconvert_exporter": "python",
   "pygments_lexer": "ipython3",
   "version": "3.9.16"
  }
 },
 "nbformat": 4,
 "nbformat_minor": 5
}
