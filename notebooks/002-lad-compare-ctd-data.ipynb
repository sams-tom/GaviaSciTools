{
 "cells": [
  {
   "cell_type": "code",
   "execution_count": null,
   "id": "broad-simple",
   "metadata": {},
   "outputs": [],
   "source": [
    "import os\n",
    "import matplotlib.pyplot as plt\n",
    "import pandas as pd\n",
    "import glob\n",
    "import cmocean as cmo\n",
    "import seawater as sw\n",
    "import sys\n",
    "sys.path.append('../')\n",
    "import src.data.export_log_data as efuncs\n",
    "import src.data.read_functions as rfuncs\n"
   ]
  },
  {
   "cell_type": "code",
   "execution_count": null,
   "id": "confidential-crawford",
   "metadata": {},
   "outputs": [],
   "source": [
    "# root dir\n",
    "rootpath = os.path.dirname(os.getcwd())\n",
    "\n",
    "# outpath\n",
    "outpath = os.path.join(rootpath,'data','processed')\n",
    "\n",
    "# missioname\n",
    "missionname='20230119_ArdBay_NM'\n",
    "\n",
    "# project folder\n",
    "projects ='AUV Projects 2023'\n",
    "\n",
    "## if working off the SAMS servers:\n",
    "samserv=os.path.join('x:','SONAR ARCHIVE','AUV')\n",
    "\n",
    "# mission files directory\n",
    "missiondir=os.path.join(samserv,projects,missionname,'files','missions')\n",
    "\n",
    "# log files directory\n",
    "logdir=os.path.join(samserv,projects,missionname,'files','log')\n",
    "\n",
    "# make folder for processed data\n",
    "processedpath=os.path.join(outpath,missionname)\n",
    "os.makedirs(processedpath, exist_ok=True)  \n",
    "\n",
    "# other raw data (e.g. ctd data)\n",
    "rawpath=os.path.join(rootpath,'data','raw')"
   ]
  },
  {
   "cell_type": "markdown",
   "id": "flying-corrections",
   "metadata": {},
   "source": [
    "#### Read mission data "
   ]
  },
  {
   "cell_type": "code",
   "execution_count": null,
   "id": "naked-direction",
   "metadata": {},
   "outputs": [],
   "source": [
    "mfiles=os.path.join(missiondir,'*'+missionname+'*.xml')\n",
    "flelist=glob.glob(mfiles)\n",
    "mdata=pd.read_xml(flelist[0])"
   ]
  },
  {
   "cell_type": "code",
   "execution_count": null,
   "id": "unexpected-glasgow",
   "metadata": {},
   "outputs": [],
   "source": [
    "mdata"
   ]
  },
  {
   "cell_type": "markdown",
   "id": "needed-peripheral",
   "metadata": {},
   "source": [
    "#### Load the Gavia data\n",
    "Load from the **mission/log** folder as the Slocum-CTD files have no timestamp information\n",
    "\n",
    "Uses functions to read .xml files and unpack to pandas like data frames\n"
   ]
  },
  {
   "cell_type": "code",
   "execution_count": null,
   "id": "alike-pakistan",
   "metadata": {},
   "outputs": [],
   "source": [
    "# call the GAVIA data\n",
    "missionname='20230119_ArdBay_NM'\n",
    "# log files directory\n",
    "logdir=os.path.join('x:','SONAR ARCHIVE','AUV','AUV Projects 2023',missionname,'files','log')\n",
    "\n",
    "nvdf, ctdf, aandf, sbpdf, gpdf = efuncs.export_log_data(missionname,logdir,processedpath)"
   ]
  },
  {
   "cell_type": "markdown",
   "id": "prescribed-paragraph",
   "metadata": {},
   "source": [
    "#### convert pressure to depth in the ctd data "
   ]
  },
  {
   "cell_type": "code",
   "execution_count": null,
   "id": "controlled-preview",
   "metadata": {},
   "outputs": [],
   "source": [
    "# approximate latitude as 55\n",
    "lat=55\n",
    "ctdf['Depth'] = sw.eos80.dpth(ctdf['pressure'], lat)"
   ]
  },
  {
   "cell_type": "markdown",
   "id": "lovely-mounting",
   "metadata": {},
   "source": [
    "### Read the 1-m binned ascii data from the Sbe19plusv2"
   ]
  },
  {
   "cell_type": "code",
   "execution_count": null,
   "id": "blessed-third",
   "metadata": {},
   "outputs": [],
   "source": [
    "# get 1 m averaged data from CTD cast\n",
    "ddir=os.path.join(rawpath,'2023-20-10-GAVIAtrials/*00[0-9]*1m.asc')\n",
    "alldata=rfuncs.concat_ascii_data(ddir)"
   ]
  },
  {
   "cell_type": "markdown",
   "id": "radio-overall",
   "metadata": {},
   "source": [
    "#### Plot the salinity output from the SVS? "
   ]
  },
  {
   "cell_type": "code",
   "execution_count": null,
   "id": "informal-search",
   "metadata": {},
   "outputs": [],
   "source": [
    "def plot_sal(alldata,nvdf,missionname):\n",
    "    # extract some data for plotting\n",
    "    csal=alldata['Sal00']\n",
    "    cdep=alldata['DepSM']\n",
    "    gdep=nvdf['Depth']\n",
    "    gsal=nvdf['salinity']\n",
    "    gtime=nvdf['timestamp']\n",
    "    fig,ax = plt.subplots(figsize=[8,12])\n",
    "    ax.plot(csal,cdep,'r.',label='19plus')\n",
    "    sc=ax.scatter(gsal,gdep,s=8,marker='s',c=gtime,cmap=cmo.cm.deep,label='nav_salinity')\n",
    "    ax.grid(True)\n",
    "    ax.set_xlabel('Salinity')\n",
    "    ax.set_ylabel('Depth')\n",
    "    ax.invert_yaxis()\n",
    "    ax.set_title(missionname)\n",
    "    ax.legend()\n",
    "    fig.colorbar(sc, ax=ax, label='Timestamp')\n",
    "    ax.set_xlim(26,35)\n",
    "    \n",
    "%matplotlib widget\n",
    "plot_sal(alldata,nvdf,missionname)\n",
    "figfile=os.path.join(processedpath,'NavSalinity_vs_19plus')\n",
    "plt.savefig(figfile)  "
   ]
  },
  {
   "cell_type": "markdown",
   "id": "advance-frontier",
   "metadata": {},
   "source": [
    "#### There is a fairly consistent offset from around 5 m below the surface to deepest measurement, now try the data from the \"slocum-ctd\""
   ]
  },
  {
   "cell_type": "code",
   "execution_count": null,
   "id": "former-knock",
   "metadata": {},
   "outputs": [],
   "source": [
    "def plot_ctd(alldata,ctdf,missionname):\n",
    "    # extract some data for plotting\n",
    "    csal=alldata['Sal00']\n",
    "    cdep=alldata['DepSM']\n",
    "    gsal=ctdf['salinity']\n",
    "    gdep =ctdf['Depth']\n",
    "    gtime=ctdf['timestamp']\n",
    "    fig,ax = plt.subplots(figsize=[8,12])\n",
    "    ax.plot(csal,cdep,'r.',label='19plus')\n",
    "    sc=ax.scatter(gsal,gdep,s=8,marker='s',c=gtime,cmap=cmo.cm.deep,label='ctd_salinity')\n",
    "    ax.grid(True)\n",
    "    ax.set_xlabel('Salinity')\n",
    "    ax.set_ylabel('Depth')\n",
    "    ax.invert_yaxis()\n",
    "    ax.set_title(missionname)\n",
    "    ax.legend()\n",
    "    fig.colorbar(sc, ax=ax, label='Timestamp')\n",
    "    ax.set_xlim(26,35)\n",
    "%matplotlib widget\n",
    "plot_ctd(alldata,ctdf,missionname)\n",
    "figfile=os.path.join(processedpath,'CTDSalinity_vs_19plus')\n",
    "plt.savefig(figfile)  "
   ]
  },
  {
   "cell_type": "markdown",
   "id": "unavailable-scope",
   "metadata": {},
   "source": [
    "**Looking pretty good, actually. Suggest that travelling vertically (i.e. while diving) the sensor is not fast enough to compensate for the strong gradients. Now try some temperature.....**"
   ]
  },
  {
   "cell_type": "markdown",
   "id": "intellectual-blink",
   "metadata": {},
   "source": [
    "#### Plot the Temperature output from the SVS? "
   ]
  },
  {
   "cell_type": "code",
   "execution_count": null,
   "id": "brazilian-correction",
   "metadata": {},
   "outputs": [],
   "source": [
    "def plot_temp(alldata,nvdf,missionname):\n",
    "    # extract some data for plotting\n",
    "    csal=alldata['Tv290C']\n",
    "    cdep=alldata['DepSM']\n",
    "    gdep=nvdf['Depth']\n",
    "    gsal=nvdf['temperature']\n",
    "    gtime=nvdf['timestamp']\n",
    "    fig,ax = plt.subplots(figsize=[8,12])\n",
    "    ax.plot(csal,cdep,'r.',label='19plus')\n",
    "    sc=ax.scatter(gsal,gdep,s=8,marker='s',c=gtime,cmap=cmo.cm.deep,label='nav_temp')\n",
    "    ax.grid(True)\n",
    "    ax.set_xlabel('Temperature')\n",
    "    ax.set_ylabel('Depth')\n",
    "    ax.invert_yaxis()\n",
    "    ax.set_title(missionname)\n",
    "    ax.legend()\n",
    "    fig.colorbar(sc, ax=ax, label='Timestamp')\n",
    "    \n",
    "%matplotlib widget\n",
    "plot_temp(alldata,nvdf,missionname)\n",
    "figfile=os.path.join(processedpath,'NavTemp_vs_19plus')\n",
    "plt.savefig(figfile)  "
   ]
  },
  {
   "cell_type": "markdown",
   "id": "positive-breast",
   "metadata": {},
   "source": [
    "#### Plot the Temperature output from the slocum-ctd"
   ]
  },
  {
   "cell_type": "code",
   "execution_count": null,
   "id": "confidential-parliament",
   "metadata": {},
   "outputs": [],
   "source": [
    "def plot_temp(alldata,ctdf,missionname):\n",
    "    # extract some data for plotting\n",
    "    csal=alldata['Tv290C']\n",
    "    cdep=alldata['DepSM']\n",
    "    gdep =ctdf['Depth']\n",
    "    gtime=ctdf['timestamp']\n",
    "    gsal=ctdf['temperature']\n",
    "    fig,ax = plt.subplots(figsize=[8,12])\n",
    "    ax.plot(csal,cdep,'r.',label='19plus')\n",
    "    sc=ax.scatter(gsal,gdep,s=8,marker='s',c=gtime,cmap=cmo.cm.deep,label='ctd_temp')\n",
    "    ax.grid(True)\n",
    "    ax.set_xlabel('Temperature')\n",
    "    ax.set_ylabel('Depth')\n",
    "    ax.invert_yaxis()\n",
    "    ax.set_title(missionname)\n",
    "    ax.legend()\n",
    "    fig.colorbar(sc, ax=ax, label='Timestamp')\n",
    "    \n",
    "%matplotlib widget\n",
    "plot_temp(alldata,ctdf,missionname)\n",
    "figfile=os.path.join(processedpath,'CTDTemp_vs_19plus')\n",
    "plt.savefig(figfile)  "
   ]
  },
  {
   "cell_type": "markdown",
   "id": "tight-faculty",
   "metadata": {},
   "source": [
    "### Calulate mean and SD\n",
    "The data look fine but we can compare to mean and satndard deviation to see.\n",
    "Let's assume that the data from above 30 m depth are not relevent dato our analysis. This is becasue the AUV was either in transit or heaing from/to deployment or recovery. \n",
    "\n",
    "One approach would be to apply an ooffest based on the avergae difference between sensors at some stable part of the water column. From the profiling CTD we can see thta the water column is atable from ~30m. "
   ]
  },
  {
   "cell_type": "code",
   "execution_count": null,
   "id": "unusual-laugh",
   "metadata": {
    "tags": []
   },
   "outputs": [],
   "source": [
    "# first lets get all 19plus data and remove surface values\n",
    "CutoffDepth=30\n",
    "\n",
    "## SALINITY\n",
    "deep19data=alldata\n",
    "deep19data=deep19data.loc[(deep19data['DepSM'] >= CutoffDepth)]\n",
    "uds = deep19data['DepSM'].unique()\n",
    "deep19data.groupby(['DepSM'])\n",
    "\n",
    "ctdsal = deep19data.groupby('DepSM')['Sal00'].agg(['mean','std']).reset_index()\n",
    "\n",
    "deepslocdata=ctdf.round({'Depth': 0})\n",
    "deepslocdata=deepslocdata.loc[(deepslocdata['Depth'] >= CutoffDepth)]\n",
    "slocsal = deepslocdata.groupby('Depth')['salinity'].agg(['mean','std']).reset_index()\n",
    "\n",
    "\n",
    "\n",
    "fig,ax = plt.subplots(figsize=[8,12])\n",
    "ax.plot(ctdsal['mean'],ctdsal['DepSM'],'bx-',label='19plus')\n",
    "ax.plot(ctdsal['mean']-ctdsal['std'],ctdsal['DepSM'],'bx:')\n",
    "ax.plot(ctdsal['mean']+ctdsal['std'],ctdsal['DepSM'],'bx:')\n",
    "\n",
    "ax.plot(slocsal['mean'],slocsal['Depth'],'rs-',label='slocum')\n",
    "ax.plot(slocsal['mean']-slocsal['std'],slocsal['Depth'],'rs:')\n",
    "ax.plot(slocsal['mean']+slocsal['std'],slocsal['Depth'],'rs:')\n",
    "\n",
    "ax.grid(True)\n",
    "ax.set_xlabel('Salinity')\n",
    "ax.set_ylabel('Depth')\n",
    "ax.invert_yaxis()\n",
    "ax.set_title(missionname)\n",
    "ax.legend()\n",
    "\n",
    "figfile=os.path.join(processedpath,'mean_sd_CTDSal_vs_19plus')\n",
    "plt.savefig(figfile)  \n",
    "\n",
    "\n",
    "## TEMPERATURE\n",
    "deep19data=alldata\n",
    "deep19data=deep19data.loc[(deep19data['DepSM'] >= CutoffDepth)]\n",
    "uds = deep19data['DepSM'].unique()\n",
    "deep19data.groupby(['DepSM'])\n",
    "\n",
    "ctdsal = deep19data.groupby('DepSM')['Tv290C'].agg(['mean','std']).reset_index()\n",
    "\n",
    "deepslocdata=ctdf.round({'Depth': 0})\n",
    "deepslocdata=deepslocdata.loc[(deepslocdata['Depth'] >= CutoffDepth)]\n",
    "slocsal = deepslocdata.groupby('Depth')['temperature'].agg(['mean','std']).reset_index()\n",
    "\n",
    "\n",
    "\n",
    "fig,ax = plt.subplots(figsize=[8,12])\n",
    "ax.plot(ctdsal['mean'],ctdsal['DepSM'],'bx-',label='19plus')\n",
    "ax.plot(ctdsal['mean']-ctdsal['std'],ctdsal['DepSM'],'bx:')\n",
    "ax.plot(ctdsal['mean']+ctdsal['std'],ctdsal['DepSM'],'bx:')\n",
    "\n",
    "ax.plot(slocsal['mean'],slocsal['Depth'],'rs-',label='slocum')\n",
    "ax.plot(slocsal['mean']-slocsal['std'],slocsal['Depth'],'rs:')\n",
    "ax.plot(slocsal['mean']+slocsal['std'],slocsal['Depth'],'rs:')\n",
    "\n",
    "ax.grid(True)\n",
    "ax.set_xlabel('Temperature')\n",
    "ax.set_ylabel('Depth')\n",
    "ax.invert_yaxis()\n",
    "ax.set_title(missionname)\n",
    "ax.legend()\n",
    "\n",
    "figfile=os.path.join(processedpath,'mean_sd_CTDTemp_vs_19plus')\n",
    "plt.savefig(figfile)  "
   ]
  },
  {
   "cell_type": "code",
   "execution_count": null,
   "id": "1ea9edbe-bd13-4482-9f9b-fa6e1a6f8794",
   "metadata": {},
   "outputs": [],
   "source": []
  }
 ],
 "metadata": {
  "kernelspec": {
   "display_name": "Python 3 (ipykernel)",
   "language": "python",
   "name": "python3"
  },
  "language_info": {
   "codemirror_mode": {
    "name": "ipython",
    "version": 3
   },
   "file_extension": ".py",
   "mimetype": "text/x-python",
   "name": "python",
   "nbconvert_exporter": "python",
   "pygments_lexer": "ipython3",
   "version": "3.9.18"
  }
 },
 "nbformat": 4,
 "nbformat_minor": 5
}
